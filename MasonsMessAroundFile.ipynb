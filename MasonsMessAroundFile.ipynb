{
  "cells": [
    {
      "cell_type": "code",
      "execution_count": null,
      "metadata": {
        "colab": {
          "base_uri": "https://localhost:8080/"
        },
        "id": "8d2wha8SQVwl",
        "outputId": "35eedaee-de63-4788-e4ad-32dac2a08c1b"
      },
      "outputs": [
        {
          "name": "stdout",
          "output_type": "stream",
          "text": [
            "Mounted at /content/drive\n"
          ]
        }
      ],
      "source": [
        "from google.colab import drive\n",
        "drive.mount('/content/drive')"
      ]
    },
    {
      "cell_type": "code",
      "execution_count": null,
      "metadata": {
        "id": "qErduDTPO1b8"
      },
      "outputs": [],
      "source": [
        "import pandas as pd\n",
        "import numpy as np\n",
        "from sklearn.model_selection import train_test_split, GridSearchCV, cross_val_score\n",
        "from sklearn.linear_model import LinearRegression, Lasso\n",
        "from sklearn.tree import DecisionTreeClassifier\n",
        "from sklearn.ensemble import RandomForestClassifier, GradientBoostingClassifier\n",
        "from sklearn.svm import SVC\n",
        "from sklearn.metrics import accuracy_score, precision_score, recall_score, f1_score, roc_auc_score\n",
        "from sklearn.metrics import mean_squared_error, mean_absolute_error\n",
        "from sklearn.feature_selection import RFE\n",
        "import shap\n",
        "import seaborn as sns\n",
        "import matplotlib.pyplot as plt"
      ]
    },
    {
      "cell_type": "code",
      "execution_count": null,
      "metadata": {
        "colab": {
          "base_uri": "https://localhost:8080/"
        },
        "id": "x9nq-zIbPklk",
        "outputId": "4080ac09-5d8a-4156-db5b-36ae1dfadd52"
      },
      "outputs": [
        {
          "name": "stdout",
          "output_type": "stream",
          "text": [
            "   Unnamed: 0                track_id                 artists  \\\n",
            "0           0  5SuOikwiRyPMVoIQDJUgSV             Gen Hoshino   \n",
            "1           1  4qPNDBW1i3p13qLCt0Ki3A            Ben Woodward   \n",
            "2           2  1iJBSr7s7jYXzM8EGcbK5b  Ingrid Michaelson;ZAYN   \n",
            "3           3  6lfxq3CG4xtTiEg7opyCyx            Kina Grannis   \n",
            "4           4  5vjLSffimiIP26QG5WcN2K        Chord Overstreet   \n",
            "\n",
            "                                          album_name  \\\n",
            "0                                             Comedy   \n",
            "1                                   Ghost (Acoustic)   \n",
            "2                                     To Begin Again   \n",
            "3  Crazy Rich Asians (Original Motion Picture Sou...   \n",
            "4                                            Hold On   \n",
            "\n",
            "                   track_name  popularity  duration_ms  explicit  \\\n",
            "0                      Comedy          73       230666     False   \n",
            "1            Ghost - Acoustic          55       149610     False   \n",
            "2              To Begin Again          57       210826     False   \n",
            "3  Can't Help Falling In Love          71       201933     False   \n",
            "4                     Hold On          82       198853     False   \n",
            "\n",
            "   danceability  energy  ...  loudness  mode  speechiness  acousticness  \\\n",
            "0         0.676  0.4610  ...    -6.746     0       0.1430        0.0322   \n",
            "1         0.420  0.1660  ...   -17.235     1       0.0763        0.9240   \n",
            "2         0.438  0.3590  ...    -9.734     1       0.0557        0.2100   \n",
            "3         0.266  0.0596  ...   -18.515     1       0.0363        0.9050   \n",
            "4         0.618  0.4430  ...    -9.681     1       0.0526        0.4690   \n",
            "\n",
            "   instrumentalness  liveness  valence    tempo  time_signature  track_genre  \n",
            "0          0.000001    0.3580    0.715   87.917               4     acoustic  \n",
            "1          0.000006    0.1010    0.267   77.489               4     acoustic  \n",
            "2          0.000000    0.1170    0.120   76.332               4     acoustic  \n",
            "3          0.000071    0.1320    0.143  181.740               3     acoustic  \n",
            "4          0.000000    0.0829    0.167  119.949               4     acoustic  \n",
            "\n",
            "[5 rows x 21 columns]\n",
            "<class 'pandas.core.frame.DataFrame'>\n",
            "RangeIndex: 114000 entries, 0 to 113999\n",
            "Data columns (total 21 columns):\n",
            " #   Column            Non-Null Count   Dtype  \n",
            "---  ------            --------------   -----  \n",
            " 0   Unnamed: 0        114000 non-null  int64  \n",
            " 1   track_id          114000 non-null  object \n",
            " 2   artists           113999 non-null  object \n",
            " 3   album_name        113999 non-null  object \n",
            " 4   track_name        113999 non-null  object \n",
            " 5   popularity        114000 non-null  int64  \n",
            " 6   duration_ms       114000 non-null  int64  \n",
            " 7   explicit          114000 non-null  bool   \n",
            " 8   danceability      114000 non-null  float64\n",
            " 9   energy            114000 non-null  float64\n",
            " 10  key               114000 non-null  int64  \n",
            " 11  loudness          114000 non-null  float64\n",
            " 12  mode              114000 non-null  int64  \n",
            " 13  speechiness       114000 non-null  float64\n",
            " 14  acousticness      114000 non-null  float64\n",
            " 15  instrumentalness  114000 non-null  float64\n",
            " 16  liveness          114000 non-null  float64\n",
            " 17  valence           114000 non-null  float64\n",
            " 18  tempo             114000 non-null  float64\n",
            " 19  time_signature    114000 non-null  int64  \n",
            " 20  track_genre       114000 non-null  object \n",
            "dtypes: bool(1), float64(9), int64(6), object(5)\n",
            "memory usage: 17.5+ MB\n",
            "None\n",
            "          Unnamed: 0     popularity   duration_ms   danceability  \\\n",
            "count  114000.000000  114000.000000  1.140000e+05  114000.000000   \n",
            "mean    56999.500000      33.238535  2.280292e+05       0.566800   \n",
            "std     32909.109681      22.305078  1.072977e+05       0.173542   \n",
            "min         0.000000       0.000000  0.000000e+00       0.000000   \n",
            "25%     28499.750000      17.000000  1.740660e+05       0.456000   \n",
            "50%     56999.500000      35.000000  2.129060e+05       0.580000   \n",
            "75%     85499.250000      50.000000  2.615060e+05       0.695000   \n",
            "max    113999.000000     100.000000  5.237295e+06       0.985000   \n",
            "\n",
            "              energy            key       loudness           mode  \\\n",
            "count  114000.000000  114000.000000  114000.000000  114000.000000   \n",
            "mean        0.641383       5.309140      -8.258960       0.637553   \n",
            "std         0.251529       3.559987       5.029337       0.480709   \n",
            "min         0.000000       0.000000     -49.531000       0.000000   \n",
            "25%         0.472000       2.000000     -10.013000       0.000000   \n",
            "50%         0.685000       5.000000      -7.004000       1.000000   \n",
            "75%         0.854000       8.000000      -5.003000       1.000000   \n",
            "max         1.000000      11.000000       4.532000       1.000000   \n",
            "\n",
            "         speechiness   acousticness  instrumentalness       liveness  \\\n",
            "count  114000.000000  114000.000000     114000.000000  114000.000000   \n",
            "mean        0.084652       0.314910          0.156050       0.213553   \n",
            "std         0.105732       0.332523          0.309555       0.190378   \n",
            "min         0.000000       0.000000          0.000000       0.000000   \n",
            "25%         0.035900       0.016900          0.000000       0.098000   \n",
            "50%         0.048900       0.169000          0.000042       0.132000   \n",
            "75%         0.084500       0.598000          0.049000       0.273000   \n",
            "max         0.965000       0.996000          1.000000       1.000000   \n",
            "\n",
            "             valence          tempo  time_signature  \n",
            "count  114000.000000  114000.000000   114000.000000  \n",
            "mean        0.474068     122.147837        3.904035  \n",
            "std         0.259261      29.978197        0.432621  \n",
            "min         0.000000       0.000000        0.000000  \n",
            "25%         0.260000      99.218750        4.000000  \n",
            "50%         0.464000     122.017000        4.000000  \n",
            "75%         0.683000     140.071000        4.000000  \n",
            "max         0.995000     243.372000        5.000000  \n"
          ]
        }
      ],
      "source": [
        "data = pd.read_csv('/content/drive/MyDrive/Labs/Team Project/dataset.csv')\n",
        "\n",
        "print(data.head())\n",
        "print(data.info())\n",
        "print(data.describe())"
      ]
    },
    {
      "cell_type": "code",
      "execution_count": null,
      "metadata": {
        "id": "p5nIEZDuQMfQ"
      },
      "outputs": [],
      "source": [
        "features = [\"duration_ms\", \"explicit\", \"danceability\", \"energy\", \"key\", \"loudness\",\n",
        "            \"mode\", \"speechiness\", \"acousticness\", \"instrumentalness\", \"liveness\",\n",
        "            \"valence\", \"tempo\", \"time_signature\"\n",
        "]\n",
        "target = \"popularity\"\n",
        "\n",
        "X = data[features]\n",
        "y = data[target]\n",
        "\n",
        "from sklearn.preprocessing import StandardScaler\n",
        "scaler = StandardScaler()\n",
        "X_scaled = scaler.fit_transform(X)"
      ]
    },
    {
      "cell_type": "code",
      "execution_count": null,
      "metadata": {
        "id": "XinsV3vTRHd8"
      },
      "outputs": [],
      "source": [
        "X_train, X_test, y_train, y_test = train_test_split(X_scaled, y, test_size=0.2, random_state=42)"
      ]
    },
    {
      "cell_type": "code",
      "execution_count": null,
      "metadata": {
        "colab": {
          "background_save": true,
          "base_uri": "https://localhost:8080/"
        },
        "id": "-bXEbkQ9RN5y",
        "outputId": "aabbaf10-0a3d-4e49-a282-ba7c6e953b15"
      },
      "outputs": [
        {
          "name": "stdout",
          "output_type": "stream",
          "text": [
            "Linear Regression - RMSE: 21.96, MAE: 18.34\n"
          ]
        },
        {
          "name": "stderr",
          "output_type": "stream",
          "text": [
            "/usr/local/lib/python3.10/dist-packages/sklearn/metrics/_classification.py:1531: UndefinedMetricWarning: Precision is ill-defined and being set to 0.0 in labels with no predicted samples. Use `zero_division` parameter to control this behavior.\n",
            "  _warn_prf(average, modifier, f\"{metric.capitalize()} is\", len(result))\n"
          ]
        },
        {
          "name": "stdout",
          "output_type": "stream",
          "text": [
            "AUC could not be calculated for Decision Tree: Number of classes in y_true not equal to the number of columns in 'y_score'\n",
            "Decision Tree - Accuracy: 0.33, Precision: 0.31, Recall: 0.33, F1: 0.32, AUC: N/A\n"
          ]
        },
        {
          "name": "stderr",
          "output_type": "stream",
          "text": [
            "/usr/local/lib/python3.10/dist-packages/sklearn/metrics/_classification.py:1531: UndefinedMetricWarning: Precision is ill-defined and being set to 0.0 in labels with no predicted samples. Use `zero_division` parameter to control this behavior.\n",
            "  _warn_prf(average, modifier, f\"{metric.capitalize()} is\", len(result))\n"
          ]
        },
        {
          "name": "stdout",
          "output_type": "stream",
          "text": [
            "AUC could not be calculated for Random Forest: Number of classes in y_true not equal to the number of columns in 'y_score'\n",
            "Random Forest - Accuracy: 0.35, Precision: 0.37, Recall: 0.35, F1: 0.33, AUC: N/A\n"
          ]
        },
        {
          "name": "stderr",
          "output_type": "stream",
          "text": [
            "/usr/local/lib/python3.10/dist-packages/sklearn/metrics/_classification.py:1531: UndefinedMetricWarning: Precision is ill-defined and being set to 0.0 in labels with no predicted samples. Use `zero_division` parameter to control this behavior.\n",
            "  _warn_prf(average, modifier, f\"{metric.capitalize()} is\", len(result))\n"
          ]
        },
        {
          "name": "stdout",
          "output_type": "stream",
          "text": [
            "AUC could not be calculated for SVM: Number of classes in y_true not equal to the number of columns in 'y_score'\n",
            "SVM - Accuracy: 0.15, Precision: 0.14, Recall: 0.15, F1: 0.05, AUC: N/A\n"
          ]
        }
      ],
      "source": [
        "models = {\n",
        "    \"Linear Regression\": LinearRegression(),\n",
        "    \"Decision Tree\": DecisionTreeClassifier(),\n",
        "    \"Random Forest\": RandomForestClassifier(),\n",
        "    \"SVM\": SVC(probability=True)\n",
        "}\n",
        "for name, model in models.items():\n",
        "    model.fit(X_train, y_train)\n",
        "    y_pred = model.predict(X_test)\n",
        "\n",
        "    if name != \"Linear Regression\":\n",
        "        acc = accuracy_score(y_test, y_pred)\n",
        "        prec = precision_score(y_test, y_pred, average=\"weighted\")\n",
        "        rec = recall_score(y_test, y_pred, average=\"weighted\")\n",
        "        f1 = f1_score(y_test, y_pred, average=\"weighted\")\n",
        "\n",
        "        try:\n",
        "            if hasattr(model, \"predict_proba\"):\n",
        "                auc = roc_auc_score(y_test, model.predict_proba(X_test), multi_class='ovr')\n",
        "            elif hasattr(model, \"decision_function\"):\n",
        "                decision_scores = model.decision_function(X_test)\n",
        "                auc = roc_auc_score(y_test, decision_scores, multi_class='ovr')\n",
        "            else:\n",
        "                auc = None\n",
        "        except Exception as e:\n",
        "            print(f\"AUC could not be calculated for {name}: {e}\")\n",
        "            auc = None\n",
        "\n",
        "        print(f\"{name} - Accuracy: {acc:.2f}, Precision: {prec:.2f}, Recall: {rec:.2f}, F1: {f1:.2f}, AUC: {auc:.2f}\"\n",
        "              if auc is not None else\n",
        "              f\"{name} - Accuracy: {acc:.2f}, Precision: {prec:.2f}, Recall: {rec:.2f}, F1: {f1:.2f}, AUC: N/A\")\n",
        "\n",
        "    else:\n",
        "      rmse = np.sqrt(mean_squared_error(y_test, y_pred))\n",
        "      mae = mean_absolute_error(y_test, y_pred)\n",
        "      print(f\"{name} - RMSE: {rmse:.2f}, MAE: {mae:.2f}\")"
      ]
    },
    {
      "cell_type": "code",
      "execution_count": null,
      "metadata": {
        "colab": {
          "base_uri": "https://localhost:8080/",
          "height": 651
        },
        "id": "E_prpaV2XIqb",
        "outputId": "8fe7ca8c-d664-4587-90fb-08e5bd2ab2f8"
      },
      "outputs": [
        {
          "data": {
            "image/png": "[encoded data removed]",
            "text/plain": [
              "<Figure size 1000x600 with 1 Axes>"
            ]
          },
          "metadata": {},
          "output_type": "display_data"
        }
      ],
      "source": [
        "rf = RandomForestClassifier()\n",
        "rf.fit(X_train, y_train)\n",
        "\n",
        "importances = pd.Series(rf.feature_importances_, index=features)\n",
        "importances.sort_values(ascending=False).plot(kind='bar', figsize=(10,6))\n",
        "plt.title('Feature Importances')\n",
        "plt.show()\n",
        "\n",
        "explainer = shap.TreeExplainer(rf)\n",
        "shap_values = explainer.shap_values(X_test)\n",
        "shap.summary_plot(shap_values, X_test, feature_names=features)"
      ]
    },
    {
      "cell_type": "code",
      "execution_count": null,
      "metadata": {
        "colab": {
          "base_uri": "https://localhost:8080/",
          "height": 211
        },
        "id": "x1h7j4olaG3T",
        "outputId": "2d55f38c-0d4b-4dc3-d654-698983d47a1a"
      },
      "outputs": [
        {
          "output_type": "error",
          "ename": "NameError",
          "evalue": "name 'RandomForestClassifier' is not defined",
          "traceback": [
            "\u001b[0;31m---------------------------------------------------------------------------\u001b[0m",
            "\u001b[0;31mNameError\u001b[0m                                 Traceback (most recent call last)",
            "\u001b[0;32m<ipython-input-1-641079d8ca9c>\u001b[0m in \u001b[0;36m<cell line: 4>\u001b[0;34m()\u001b[0m\n\u001b[1;32m      2\u001b[0m \u001b[0;34m\u001b[0m\u001b[0m\n\u001b[1;32m      3\u001b[0m estimators = [\n\u001b[0;32m----> 4\u001b[0;31m     \u001b[0;34m(\u001b[0m\u001b[0;34m'rf'\u001b[0m\u001b[0;34m,\u001b[0m \u001b[0mRandomForestClassifier\u001b[0m\u001b[0;34m(\u001b[0m\u001b[0;34m)\u001b[0m\u001b[0;34m)\u001b[0m\u001b[0;34m,\u001b[0m\u001b[0;34m\u001b[0m\u001b[0;34m\u001b[0m\u001b[0m\n\u001b[0m\u001b[1;32m      5\u001b[0m     \u001b[0;34m(\u001b[0m\u001b[0;34m'dt'\u001b[0m\u001b[0;34m,\u001b[0m \u001b[0mDecisionTreeClassifier\u001b[0m\u001b[0;34m(\u001b[0m\u001b[0;34m)\u001b[0m\u001b[0;34m)\u001b[0m\u001b[0;34m,\u001b[0m\u001b[0;34m\u001b[0m\u001b[0;34m\u001b[0m\u001b[0m\n\u001b[1;32m      6\u001b[0m     \u001b[0;34m(\u001b[0m\u001b[0;34m'svm'\u001b[0m\u001b[0;34m,\u001b[0m \u001b[0mSVC\u001b[0m\u001b[0;34m(\u001b[0m\u001b[0mprobability\u001b[0m\u001b[0;34m=\u001b[0m\u001b[0;32mTrue\u001b[0m\u001b[0;34m)\u001b[0m\u001b[0;34m)\u001b[0m\u001b[0;34m\u001b[0m\u001b[0;34m\u001b[0m\u001b[0m\n",
            "\u001b[0;31mNameError\u001b[0m: name 'RandomForestClassifier' is not defined"
          ]
        }
      ],
      "source": [
        "from sklearn.ensemble import StackingClassifier\n",
        "\n",
        "estimators = [\n",
        "    ('rf', RandomForestClassifier()),\n",
        "    ('dt', DecisionTreeClassifier()),\n",
        "    ('svm', SVC(probability=True))\n",
        "]\n",
        "stack = StackingClassifier(estimators=estimators, final_estimator=GradientBoostingClassifier())\n",
        "\n",
        "stack.fit(X_train, y_train)\n",
        "stack_pred = stack.predict(X_test)\n",
        "\n",
        "acc = accuracy_score(y_test, stack_pred)\n",
        "prec = precision_score(y_test, stack_pred, average=\"weighted\")\n",
        "rec = recall_score(y_test, stack_pred, average=\"weighted\")\n",
        "f1 = f1_score(y_test, stack_pred, average=\"weighted\")\n",
        "print(f\"Stacking Ensemble - Accuracy: {acc:.2f}, Precision: {prec:.2f}, Recall: {rec:.2f}, F1: {f1:.2f}\")"
      ]
    },
    {
      "cell_type": "code",
      "execution_count": null,
      "metadata": {
        "colab": {
          "background_save": true,
          "base_uri": "https://localhost:8080/"
        },
        "id": "17QdEFRwbXql",
        "outputId": "cb11b475-2262-44d2-c806-3e62efbb844c"
      },
      "outputs": [
        {
          "name": "stderr",
          "output_type": "stream",
          "text": [
            "/usr/local/lib/python3.10/dist-packages/sklearn/model_selection/_split.py:776: UserWarning: The least populated class in y has only 1 members, which is less than n_splits=5.\n",
            "  warnings.warn(\n"
          ]
        }
      ],
      "source": [
        "param_grid = {\n",
        "    'n_estimators': [50, 100, 200],\n",
        "    'max_depth': [10, 20, None],\n",
        "    'min_samples_split': [2, 5, 10]\n",
        "}\n",
        "\n",
        "grid_search = GridSearchCV(estimator=RandomForestClassifier(), param_grid=param_grid, cv=5, scoring='accuracy')\n",
        "grid_search.fit(X_train, y_train)\n",
        "\n",
        "print(\"Best Parameters:\", grid_search.best_params_)\n",
        "best_rf = grid_search.best_estimator_"
      ]
    },
    {
      "cell_type": "code",
      "execution_count": null,
      "metadata": {
        "id": "gZnyFAOob_57"
      },
      "outputs": [],
      "source": [
        "cv_score = cross_val_score(best_rf, X_scaled, y, cv=10, scoring='accuracy')\n",
        "print(f\"Cross-Validation Accuracy: {np.mean(cv_scores):.2f}\")"
      ]
    }
  ],
  "metadata": {
    "colab": {
      "provenance": []
    },
    "kernelspec": {
      "display_name": "Python 3",
      "name": "python3"
    },
    "language_info": {
      "name": "python"
    }
  },
  "nbformat": 4,
  "nbformat_minor": 0
}